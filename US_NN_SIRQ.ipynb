{
 "cells": [
  {
   "cell_type": "markdown",
   "metadata": {},
   "source": [
    "# Import Packages"
   ]
  },
  {
   "cell_type": "code",
   "execution_count": 2,
   "metadata": {},
   "outputs": [],
   "source": [
    "using CSV\n",
    "using Plots\n",
    "using Measures\n",
    "using Flux\n",
    "using DifferentialEquations\n",
    "using DiffEqFlux\n",
    "using LaTeXStrings"
   ]
  },
  {
   "cell_type": "markdown",
   "metadata": {},
   "source": [
    "# Import Dataset"
   ]
  },
  {
   "cell_type": "code",
   "execution_count": 3,
   "metadata": {},
   "outputs": [
    {
     "data": {
      "text/plain": [
       "79-element Array{Int64,1}:\n",
       "  1\n",
       "  2\n",
       "  3\n",
       "  4\n",
       "  5\n",
       "  6\n",
       "  7\n",
       "  8\n",
       "  9\n",
       " 10\n",
       " 11\n",
       " 12\n",
       " 13\n",
       "  ⋮\n",
       " 68\n",
       " 69\n",
       " 70\n",
       " 71\n",
       " 72\n",
       " 73\n",
       " 74\n",
       " 75\n",
       " 76\n",
       " 77\n",
       " 78\n",
       " 79"
      ]
     },
     "execution_count": 3,
     "metadata": {},
     "output_type": "execute_result"
    }
   ],
   "source": [
    "confirmed_fn = CSV.read(\"time_series_covid19_confirmed_global.csv\")\n",
    "dead_fn = CSV.read(\"time_series_covid19_deaths_global.csv\")\n",
    "recovered_fn = CSV.read(\"time_series_covid19_recovered_global.csv\")\n",
    "Confirmed = Array(confirmed_fn[226,51:129])\n",
    "Dead = Array(dead_fn[226,51:129])\n",
    "Recovered = Array(recovered_fn[226,51:129])\n",
    "Infected = Confirmed .- Dead .- Recovered\n",
    "Time = collect(1:1:(129+1)-51)"
   ]
  },
  {
   "cell_type": "markdown",
   "metadata": {},
   "source": [
    "# Taking Gradient Using Flux\n",
    "## Documentation: https://fluxml.ai/Flux.jl/stable/models/basics/"
   ]
  },
  {
   "cell_type": "code",
   "execution_count": 4,
   "metadata": {},
   "outputs": [
    {
     "data": {
      "text/plain": [
       "Params([[-0.15756171941757202, -0.07919720560312271, -0.2679900825023651, -0.3180989921092987, 0.19072562456130981, 0.4660479426383972, 0.5790422558784485, -0.15663959085941315, 0.16085660457611084, -0.5511414408683777  …  0.7205072045326233, -0.6869215369224548, -0.5823696851730347, 0.35903361439704895, 0.5721712112426758, 0.28743284940719604, -0.09562107175588608, 0.0, 0.5, 0.03]])"
      ]
     },
     "execution_count": 4,
     "metadata": {},
     "output_type": "execute_result"
    }
   ],
   "source": [
    "# ann means Artificial Neural Networks\n",
    "# ReLU means Rectified Linear Unit, which is a layer activation function here\n",
    "# Chain multiple layers / functions together, so that they are called in sequence on a given input.\n",
    "\n",
    "# Here is a n = 2-layer densely connected neural network with 10 units in the hidden layer (See Figure 11)\n",
    "ann = Chain(Dense(4,10,relu), Dense(10,1))\n",
    "# Flatten a model's parameters into a single weight vector.\n",
    "# The second return value re allows you to reconstruct the original network after making modifications to the\n",
    "# weight vector.\n",
    "p1,re = Flux.destructure(ann)\n",
    "# beta and gamma\n",
    "p2 = Float64[0.5, 0.03]\n",
    "# The final model was described by 63 tunable parameters which are in p3, p1 has 61 plus p2 has 2.\n",
    "p3 = [p1; p2]\n",
    "# make p3 into params format\n",
    "ps = Flux.params(p3)"
   ]
  },
  {
   "cell_type": "code",
   "execution_count": 5,
   "metadata": {},
   "outputs": [
    {
     "data": {
      "text/plain": [
       "QSIR (generic function with 1 method)"
      ]
     },
     "execution_count": 5,
     "metadata": {},
     "output_type": "execute_result"
    }
   ],
   "source": [
    "# u = [S,I,R,T]\n",
    "# du = [dS,dI,dR,dT]\n",
    "# u0 = [S0,I0,R0,T0]\n",
    "# ODEProblem Dodumentation: https://docs.sciml.ai/stable/types/ode_types/\n",
    "\n",
    "#ODE Function\n",
    "function QSIR(du, u, p, t)\n",
    "    β = abs(p[62])\n",
    "    γ = abs(p[63])\n",
    "    du[1]=  - β*u[1]*(u[2])/u0[1]\n",
    "    du[2] = β*u[1]*(u[2])/u0[1] - γ*u[2] - abs(re(p[1:61])(u)[1])*u[2]/u0[1]\n",
    "    du[3] = γ*u[2]\n",
    "    du[4] =  abs(re(p[1:61])(u)[1]*u[2]/u0[1])\n",
    "end"
   ]
  },
  {
   "cell_type": "code",
   "execution_count": 6,
   "metadata": {},
   "outputs": [
    {
     "data": {
      "text/plain": [
       "79"
      ]
     },
     "execution_count": 6,
     "metadata": {},
     "output_type": "execute_result"
    }
   ],
   "source": [
    "# Initial Condition\n",
    "u0 = Float64[328200000.0, 491, 28, 10]\n",
    "# Time Space\n",
    "tspan = (0, 79.0)\n",
    "datasize = (129 + 1) - 51"
   ]
  },
  {
   "cell_type": "code",
   "execution_count": 7,
   "metadata": {},
   "outputs": [
    {
     "data": {
      "text/plain": [
       "4×79 Array{Float64,2}:\n",
       "   3.282e8    3.282e8    3.28199e8  …  8.90292e7  8.87339e7  8.8459e7\n",
       " 491.0      680.172    942.325         2.22615e6  2.07758e6  1.94019e6\n",
       "  28.0       45.6409    70.0876        2.56892e7  2.57546e7  2.58158e7\n",
       "  10.0       97.2024   218.047         2.11256e8  2.11634e8  2.11986e8"
      ]
     },
     "execution_count": 7,
     "metadata": {},
     "output_type": "execute_result"
    }
   ],
   "source": [
    "# ODEProblem Dodumentation: https://docs.sciml.ai/stable/types/ode_types/\n",
    "# Local Sensitivity Analysis Documentation: https://docs.sciml.ai/stable/analysis/sensitivity/#\n",
    "\n",
    "prob = ODEProblem(QSIR, u0, tspan, p3)\n",
    "t = range(tspan[1],tspan[2],length=datasize)\n",
    "\n",
    "sol = Array(concrete_solve(prob, Rosenbrock23(autodiff = false),u0, p3, saveat=t))"
   ]
  },
  {
   "cell_type": "code",
   "execution_count": 8,
   "metadata": {},
   "outputs": [
    {
     "data": {
      "text/plain": [
       "predict_adjoint (generic function with 1 method)"
      ]
     },
     "execution_count": 8,
     "metadata": {},
     "output_type": "execute_result"
    }
   ],
   "source": [
    "function predict_adjoint() # Our 1-layer neural network\n",
    "  Array(concrete_solve(prob,Rosenbrock23(autodiff = false),u0,p3,saveat=t))\n",
    "end"
   ]
  },
  {
   "cell_type": "code",
   "execution_count": 9,
   "metadata": {},
   "outputs": [],
   "source": [
    "I = Infected[1, :];\n",
    "R = Recovered[1,:] + Dead[1,:];"
   ]
  },
  {
   "cell_type": "code",
   "execution_count": 10,
   "metadata": {},
   "outputs": [
    {
     "data": {
      "text/plain": [
       "loss_adjoint (generic function with 1 method)"
      ]
     },
     "execution_count": 10,
     "metadata": {},
     "output_type": "execute_result"
    }
   ],
   "source": [
    "function loss_adjoint()\n",
    " prediction = predict_adjoint()\n",
    " loss = sum(abs2, log.(abs.(Infected)) .- log.(abs.(prediction[2, :]))) + sum(abs2, log.(abs.(Recovered + Dead) .+ 1) .- log.(abs.(prediction[3, :] .+ 1)))\n",
    "end"
   ]
  },
  {
   "cell_type": "code",
   "execution_count": 11,
   "metadata": {
    "scrolled": true
   },
   "outputs": [
    {
     "data": {
      "text/plain": [
       "0-element Array{Any,1}"
      ]
     },
     "execution_count": 11,
     "metadata": {},
     "output_type": "execute_result"
    }
   ],
   "source": [
    "Loss = []\n",
    "P1 = []\n",
    "P2 = []\n",
    "P3 = []"
   ]
  },
  {
   "cell_type": "code",
   "execution_count": 12,
   "metadata": {},
   "outputs": [
    {
     "data": {
      "text/plain": [
       "#3 (generic function with 1 method)"
      ]
     },
     "execution_count": 12,
     "metadata": {},
     "output_type": "execute_result"
    }
   ],
   "source": [
    "anim = Animation()\n",
    "\n",
    "# Times of iterations\n",
    "datan = Iterators.repeated((), 7000)\n",
    "opt = ADAM(0.1)\n",
    "\n",
    "# callback function to observe training\n",
    "cb = function()\n",
    "  display(loss_adjoint())\n",
    "  #scatter(Time, Infected, xaxis = \"Time(Days)\", yaxis = \"US - Number\", label = \"Data: Infected\", legend = :topleft, framestyle = :box, left_margin = 5mm)\n",
    "  prediction = solve(remake(prob,p=p3),Rosenbrock23(autodiff = false),saveat=Time)\n",
    "  #display(scatter!(t, prediction[2, :], label = \"NN - Infected\"))\n",
    "  #scatter!(Time, Recovered + Dead, xaxis = \"Time(Days)\", yaxis = \"US - Number\", label = \"Data: Recovered + Dead\", legend = :topleft, framestyle = :box, left_margin = 5mm)\n",
    "  #display(scatter!(t, prediction[3, :], label = \"NN - Recovered + Dead\"))\n",
    "  global Loss = append!(Loss, loss_adjoint())\n",
    "  global P1 = append!(P1, p3[62])\n",
    "  global P2 = append!(P2, p3[63])\n",
    "  global P3 = append!(P3, p3)\n",
    "  frame(anim)\n",
    "end"
   ]
  },
  {
   "cell_type": "code",
   "execution_count": 13,
   "metadata": {},
   "outputs": [
    {
     "data": {
      "text/plain": [
       "1478.7689443432537"
      ]
     },
     "metadata": {},
     "output_type": "display_data"
    },
    {
     "ename": "ErrorException",
     "evalue": "No current plot/subplot",
     "output_type": "error",
     "traceback": [
      "No current plot/subplot",
      "",
      "Stacktrace:",
      " [1] error(::String) at ./error.jl:33",
      " [2] current at /Users/luo00042/.julia/packages/Plots/FYxdA/src/plot.jl:15 [inlined]",
      " [3] frame(::Animation) at /Users/luo00042/.julia/packages/Plots/FYxdA/src/animation.jl:18",
      " [4] (::var\"#3#4\")() at ./In[12]:19",
      " [5] top-level scope at In[13]:1"
     ]
    }
   ],
   "source": [
    "# Display the ODE with the current parameter values\n",
    "cb()"
   ]
  },
  {
   "cell_type": "code",
   "execution_count": 14,
   "metadata": {},
   "outputs": [
    {
     "data": {
      "text/plain": [
       "16006.178241716181"
      ]
     },
     "metadata": {},
     "output_type": "display_data"
    },
    {
     "ename": "ErrorException",
     "evalue": "No current plot/subplot",
     "output_type": "error",
     "traceback": [
      "No current plot/subplot",
      "",
      "Stacktrace:",
      " [1] error(::String) at ./error.jl:33",
      " [2] current at /Users/luo00042/.julia/packages/Plots/FYxdA/src/plot.jl:15 [inlined]",
      " [3] frame(::Animation) at /Users/luo00042/.julia/packages/Plots/FYxdA/src/animation.jl:18",
      " [4] (::var\"#3#4\")() at ./In[12]:19",
      " [5] macro expansion at /Users/luo00042/.julia/packages/Flux/Fj3bt/src/optimise/train.jl:93 [inlined]",
      " [6] macro expansion at /Users/luo00042/.julia/packages/Juno/tLMZd/src/progress.jl:134 [inlined]",
      " [7] train!(::typeof(loss_adjoint), ::Zygote.Params, ::Base.Iterators.Take{Base.Iterators.Repeated{Tuple{}}}, ::ADAM; cb::var\"#3#4\") at /Users/luo00042/.julia/packages/Flux/Fj3bt/src/optimise/train.jl:81",
      " [8] top-level scope at In[14]:1"
     ]
    }
   ],
   "source": [
    "# Stop Iterations when loss function starts to stagnate and derivative of solution matches derivative of data\n",
    "# at end point\n",
    "Flux.train!(loss_adjoint, ps, datan, opt, cb = cb)\n"
   ]
  },
  {
   "cell_type": "code",
   "execution_count": null,
   "metadata": {},
   "outputs": [],
   "source": [
    "# Make a gif of training process\n",
    "gif(anim,\"Dead_US.gif\", fps=15)"
   ]
  },
  {
   "cell_type": "code",
   "execution_count": null,
   "metadata": {},
   "outputs": [],
   "source": [
    "L = findmin(Loss)\n",
    "\n",
    "# Since we have 63 parameters from the neural network setting, the following steps is to get the 63 parameters\n",
    "# in P3 as our final parameters\n",
    "idx = L[2]\n",
    "idx1 = (idx-1)*63 +1\n",
    "idx2 = idx*63\n",
    "p3 = P3[idx1: idx2]"
   ]
  },
  {
   "cell_type": "code",
   "execution_count": null,
   "metadata": {},
   "outputs": [],
   "source": [
    "# Use the parameter we got in prediction, these prediction should fit the training set and potentially fit the\n",
    "# prediction set\n",
    "prediction = Array(concrete_solve(prob,Rosenbrock23(autodiff = false),u0,p3,saveat=t))"
   ]
  },
  {
   "cell_type": "code",
   "execution_count": null,
   "metadata": {},
   "outputs": [],
   "source": [
    "S_NN_all_loss = prediction[1, :]\n",
    "I_NN_all_loss = prediction[2, :]\n",
    "R_NN_all_loss = prediction[3, :]\n",
    "T_NN_all_loss = prediction[4, :]"
   ]
  },
  {
   "cell_type": "code",
   "execution_count": null,
   "metadata": {},
   "outputs": [],
   "source": [
    "# Generlize a zero vector to represent quarentine strength timewise\n",
    "Q_parameter = zeros(Float64, length(S_NN_all_loss), 1)"
   ]
  },
  {
   "cell_type": "code",
   "execution_count": null,
   "metadata": {},
   "outputs": [],
   "source": [
    "# remake under the final parameters\n",
    "for i = 1:length(S_NN_all_loss)\n",
    "  Q_parameter[i] = abs(re(p3[1:61])([S_NN_all_loss[i],I_NN_all_loss[i], R_NN_all_loss[i], T_NN_all_loss[i]])[1])\n",
    "end"
   ]
  },
  {
   "cell_type": "code",
   "execution_count": null,
   "metadata": {},
   "outputs": [],
   "source": [
    "# Graph: Infected and recovered count\n",
    "\n",
    "scatter(Time, Infected, xaxis = \"Days post 500 infected\", yaxis = \"US: Number of cases\", label = \"Data: Infected\", legend = :topleft, framestyle = :box, left_margin = 5mm, color = :red)\n",
    "plot!(t, prediction[2, :], xaxis = \"Days post 500 infected\", yaxis = \"US: Number of cases\", label = \"Prediction: Infected\", legend = :topright, framestyle = :box, left_margin = 5mm, bottom_margin = 5mm, top_margin = 5mm,  grid = :off, color = :red, linewidth  = 3, ylims = (0, 1300000), foreground_color_legend = nothing, background_color_legend = nothing, yguidefontsize = 14, xguidefontsize = 14,  xtickfont = font(12, \"TimesNewRoman\"), ytickfont = font(12, \"TimesNewRoman\"), legendfontsize = 12)\n",
    "scatter!(Time, Recovered + Dead, xaxis = \"Days post 500 infected\", yaxis = \"US: Number of cases\", label = \"Data: Recovered + Dead\", legend = :topleft, framestyle = :box, left_margin = 5mm, color = :blue)\n",
    "plot!(t, prediction[3, :], xaxis = \"Days post 500 infected\", yaxis = \"US: Number of cases\", label = \"Prediction: Recovered + Dead \", legend = :topleft, framestyle = :box, left_margin = 5mm, bottom_margin =5mm, top_margin = 5mm, grid = :off, color = :blue, linewidth  = 3, ylims = (0, 100000), foreground_color_legend = nothing, background_color_legend = nothing,  yguidefontsize = 14, xguidefontsize = 14,  xtickfont = font(12, \"TimesNewRoman\"), ytickfont = font(12, \"TimesNewRoman\"), legendfontsize = 12)\n",
    "# if want to print Susceptible subclass, but the number of this class is way too large compared to the other two subclasses, which\n",
    "# might not present a good graphing in a proper scale \n",
    "plot!(t, prediction[1, :], xaxis = \"Days post 500 infected\", yaxis = \"US: Number of cases\", label = \"Prediction: Susceptible\", legend = :topright, framestyle = :box, left_margin = 5mm, bottom_margin = 5mm, top_margin = 5mm,  grid = :off, color = :red, linewidth  = 3, ylims = (0, 1300000), foreground_color_legend = nothing, background_color_legend = nothing, yguidefontsize = 14, xguidefontsize = 14,  xtickfont = font(12, \"TimesNewRoman\"), ytickfont = font(12, \"TimesNewRoman\"), legendfontsize = 12)\n",
    "savefig(\"US_1dn.pdf\")"
   ]
  },
  {
   "cell_type": "code",
   "execution_count": null,
   "metadata": {},
   "outputs": [],
   "source": [
    "# Graph: Quarantine strength\n",
    "scatter(t,Q_parameter/u0[1], ylims = (0.0, 0.5), xlabel = \"Days post 500 infected\", ylabel = \"Q(t)\", label = \"Quarantine Strength\",color = :black, framestyle = :box, grid =:off, legend = :topleft, left_margin = 5mm, bottom_margin = 5mm, foreground_color_legend = nothing, background_color_legend = nothing,  yguidefontsize = 14, xguidefontsize = 14,  xtickfont = font(12, \"TimesNewRoman\"), ytickfont = font(12, \"TimesNewRoman\"), legendfontsize = 12)\n",
    "savefig(\"US_2dn.pdf\")"
   ]
  },
  {
   "cell_type": "code",
   "execution_count": null,
   "metadata": {},
   "outputs": [],
   "source": [
    "# Graph: Reproduction number\n",
    "scatter(t, abs(p3[62]) ./ (abs(p3[63]) .+ Q_parameter/u0[1]), ylims= (0.9, 2.5),  xlabel = \"Days post 500 infected\", ylabel = L\"R_{t}\", label = \"Effective reproduction number\", legend = :topright, color = :black, framestyle = :box, grid =:off, foreground_color_legend = nothing, background_color_legend = nothing, yguidefontsize = 14, xguidefontsize = 14,  xtickfont = font(12, \"TimesNewRoman\"), ytickfont = font(12, \"TimesNewRoman\"), legendfontsize = 12, left_margin = 5mm, bottom_margin= 5mm)\n",
    "f(x) = 1\n",
    "plot!(f, color = :blue, linewidth = 3, label = L\"R_{t} = 1\")\n",
    "savefig(\"US_3dn.pdf\")"
   ]
  },
  {
   "cell_type": "code",
   "execution_count": null,
   "metadata": {},
   "outputs": [],
   "source": []
  }
 ],
 "metadata": {
  "kernelspec": {
   "display_name": "Julia 1.4.1",
   "language": "julia",
   "name": "julia-1.4"
  },
  "language_info": {
   "file_extension": ".jl",
   "mimetype": "application/julia",
   "name": "julia",
   "version": "1.4.1"
  }
 },
 "nbformat": 4,
 "nbformat_minor": 4
}
